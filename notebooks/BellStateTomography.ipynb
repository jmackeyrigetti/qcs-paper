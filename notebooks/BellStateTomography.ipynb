{
 "cells": [
  {
   "cell_type": "markdown",
   "metadata": {},
   "source": [
    "# Bell State Tomography via Parametric Compilation\n",
    "\n",
    "Code and datasets for producing **Figure A2** from [_A quantum-classical cloud platform optimized for variational hybrid algorithms_](https://arxiv.org/abs/2001.04449).\n",
    "\n",
    "The `bell-state-tomography.csv` file contains QPU data from running **Bell state tomography** on Aspen-4, using _parametric compilation_ and pyQuil's `Experiment` framework. In addition, this notebook contains a section that walks through how to simulate these QPU results on a noisy QVM. The tools used below are the same ones used to collect the QPU data in the CSV file."
   ]
  },
  {
   "cell_type": "code",
   "execution_count": 1,
   "metadata": {},
   "outputs": [
    {
     "name": "stderr",
     "output_type": "stream",
     "text": [
      "/Users/peter/.pyenv/versions/3.6.3/envs/qcs-36/lib/python3.6/site-packages/pyquil/gate_matrices.py:24: FutureWarning: The code in pyquil.gate_matrices has been moved to pyquil.simulation.matrices, please update your import statements.\n",
      "  FutureWarning,\n"
     ]
    }
   ],
   "source": [
    "import itertools\n",
    "from typing import Generator, List\n",
    "\n",
    "import matplotlib.pyplot as plt\n",
    "import numpy as np\n",
    "import pandas as pd\n",
    "from matplotlib.cm import ScalarMappable\n",
    "from matplotlib.colors import LinearSegmentedColormap, Normalize\n",
    "from scipy.linalg import pinv\n",
    "\n",
    "import pyquil.simulation.matrices as psm\n",
    "from forest.benchmarking.distance_measures import fidelity\n",
    "from forest.benchmarking.operator_tools.superoperator_transformations import unvec, vec\n",
    "from forest.benchmarking.utils import all_traceless_pauli_terms\n",
    "from pyquil import get_qc, Program\n",
    "from pyquil.experiment import (\n",
    "    Experiment, ExperimentResult, ExperimentSetting, correct_experiment_result, zeros_state\n",
    ")\n",
    "from pyquil.gates import CNOT, H, RESET\n",
    "from pyquil.paulis import PauliTerm\n",
    "from pyquil.simulation.tools import lifted_pauli"
   ]
  },
  {
   "cell_type": "markdown",
   "metadata": {},
   "source": [
    "## Load the Data"
   ]
  },
  {
   "cell_type": "code",
   "execution_count": 2,
   "metadata": {},
   "outputs": [],
   "source": [
    "df = pd.read_csv(\"datasets/bell-state-tomography.csv\")"
   ]
  },
  {
   "cell_type": "markdown",
   "metadata": {},
   "source": [
    "## Analyze the Data"
   ]
  },
  {
   "cell_type": "markdown",
   "metadata": {},
   "source": [
    "### Build ideal density matrix for Bell state $|00\\rangle + |11\\rangle$"
   ]
  },
  {
   "cell_type": "code",
   "execution_count": 3,
   "metadata": {},
   "outputs": [
    {
     "data": {
      "text/plain": [
       "array([[0.5, 0. , 0. , 0.5],\n",
       "       [0. , 0. , 0. , 0. ],\n",
       "       [0. , 0. , 0. , 0. ],\n",
       "       [0.5, 0. , 0. , 0.5]])"
      ]
     },
     "execution_count": 3,
     "metadata": {},
     "output_type": "execute_result"
    }
   ],
   "source": [
    "def build_rho_true() -> np.ndarray:\n",
    "    \"\"\"\n",
    "    Generate the density matrix for state |00> + |11>.\n",
    "    \"\"\"\n",
    "    psi00 = np.array([[1], [0], [0], [0]])\n",
    "    bell00 = psm.CNOT @ np.kron(psm.H, psm.I) @ psi00\n",
    "    return np.outer(bell00, bell00.T.conj())\n",
    "\n",
    "rho_true = build_rho_true()\n",
    "rho_true"
   ]
  },
  {
   "cell_type": "markdown",
   "metadata": {},
   "source": [
    "### Estimate density matrix from QPU data using the linear inversion method"
   ]
  },
  {
   "cell_type": "code",
   "execution_count": 4,
   "metadata": {},
   "outputs": [
    {
     "data": {
      "text/plain": [
       "array([[ 0.513+0.j   ,  0.003-0.034j, -0.01 +0.002j,  0.502+0.01j ],\n",
       "       [ 0.003+0.034j,  0.008+0.j   ,  0.004+0.009j,  0.012+0.027j],\n",
       "       [-0.01 -0.002j,  0.004-0.009j,  0.009-0.j   , -0.028-0.003j],\n",
       "       [ 0.502-0.01j ,  0.012-0.027j, -0.028+0.003j,  0.471+0.j   ]])"
      ]
     },
     "execution_count": 4,
     "metadata": {},
     "output_type": "execute_result"
    }
   ],
   "source": [
    "def linear_inversion_state_estimate(df: pd.DataFrame, qubits: List[int]) -> np.ndarray:\n",
    "    \"\"\"\n",
    "    Adapted from forest.benchmarking.tomography.linear_inv_state_estimate,\n",
    "    taking a pandas DataFrame instead of a List of ExperimentResult objects.\n",
    "    \"\"\"\n",
    "    measurement_matrix = np.vstack([\n",
    "        vec(lifted_pauli(PauliTerm.from_compact_str(setting.split('→')[-1]),\n",
    "                         qubits=qubits)).T.conj() for setting in df.setting])\n",
    "    rho = pinv(measurement_matrix) @ df.expectation\n",
    "    dim = 2**len(qubits)\n",
    "    return unvec(rho) + np.eye(dim) / dim\n",
    "\n",
    "rho_estimated = linear_inversion_state_estimate(df, qubits=[0, 1])\n",
    "np.round(rho_estimated, 3)"
   ]
  },
  {
   "cell_type": "markdown",
   "metadata": {},
   "source": [
    "## Plot the Data"
   ]
  },
  {
   "cell_type": "code",
   "execution_count": 5,
   "metadata": {},
   "outputs": [],
   "source": [
    "DARK_TEAL = \"#47717d\"\n",
    "GOLD = \"#f8ba2b\"\n",
    "LIGHT_TEAL = \"#66acb4\"\n",
    "NAVY = \"#00507b\"\n",
    "\n",
    "# build a custom colormap for the hinton plot\n",
    "lsc = LinearSegmentedColormap.from_list(name=\"rigetti\", colors=[NAVY, GOLD, LIGHT_TEAL, DARK_TEAL])\n",
    "ANGLE_MAPPER = ScalarMappable(norm=Normalize(vmin=-np.pi, vmax=np.pi))\n",
    "ANGLE_MAPPER.set_cmap(lsc)\n",
    "\n",
    "def hinton(matrix: np.ndarray, ax: plt.Axes) -> None:\n",
    "    \"\"\"\n",
    "    Adapted from forest.benchmarking.tomography.hinton to use custom colors.\n",
    "    \"\"\"\n",
    "    max_weight=1.0\n",
    "    ax.patch.set_facecolor(\"white\")\n",
    "    ax.set_aspect(\"equal\", \"box\")\n",
    "    ax.xaxis.set_major_locator(plt.NullLocator())\n",
    "    ax.yaxis.set_major_locator(plt.NullLocator())\n",
    "\n",
    "    for (x, y), w in np.ndenumerate(matrix):\n",
    "        color = np.arctan2(w.real, w.imag)\n",
    "        color = ANGLE_MAPPER.to_rgba(color)\n",
    "        size = np.sqrt(np.abs(w) / max_weight)\n",
    "        rect = plt.Rectangle([x - size / 2, y - size / 2], size, size,\n",
    "                             facecolor=color, edgecolor=color)\n",
    "        ax.add_patch(rect)\n",
    "\n",
    "    ax.set_xlim((-max_weight / 2, matrix.shape[0] - max_weight / 2))\n",
    "    ax.set_ylim((-max_weight / 2, matrix.shape[1] - max_weight / 2))\n",
    "    ax.autoscale_view()\n",
    "    ax.invert_yaxis()"
   ]
  },
  {
   "cell_type": "code",
   "execution_count": 6,
   "metadata": {
    "scrolled": false
   },
   "outputs": [
    {
     "data": {
      "image/png": "[encoded data removed]",
      "text/plain": [
       "<Figure size 432x864 with 2 Axes>"
      ]
     },
     "metadata": {},
     "output_type": "display_data"
    }
   ],
   "source": [
    "fig, (ax0, ax1) = plt.subplots(2, 1, figsize=(6, 12))\n",
    "fig.subplots_adjust(hspace=0.1)\n",
    "hinton(rho_true, ax=ax0)\n",
    "hinton(rho_estimated, ax=ax1)"
   ]
  },
  {
   "cell_type": "code",
   "execution_count": 7,
   "metadata": {},
   "outputs": [
    {
     "name": "stdout",
     "output_type": "stream",
     "text": [
      "Estimated Bell state fidelity = 99.35%\n"
     ]
    }
   ],
   "source": [
    "print(f\"Estimated Bell state fidelity = {np.round(fidelity(rho_true, rho_estimated), 4)*100:.2f}%\")"
   ]
  },
  {
   "cell_type": "markdown",
   "metadata": {},
   "source": [
    "## Simulate the Data on a Noisy QVM"
   ]
  },
  {
   "cell_type": "code",
   "execution_count": 8,
   "metadata": {},
   "outputs": [],
   "source": [
    "qubits = (0, 1)\n",
    "# fewer shots so it runs faster\n",
    "shots = 500\n",
    "qc = get_qc(\"2q-noisy-qvm\")"
   ]
  },
  {
   "cell_type": "markdown",
   "metadata": {},
   "source": [
    "### Define Bell state tomography `Experiment`"
   ]
  },
  {
   "cell_type": "code",
   "execution_count": 9,
   "metadata": {},
   "outputs": [
    {
     "name": "stdout",
     "output_type": "stream",
     "text": [
      "RESET\n",
      "H 0\n",
      "CNOT 0 1\n",
      "\n"
     ]
    }
   ],
   "source": [
    "p = Program()\n",
    "p += RESET()\n",
    "p += H(qubits[0])\n",
    "p += CNOT(qubits[0], qubits[1])\n",
    "p.wrap_in_numshots_loop(shots)\n",
    "print(p)"
   ]
  },
  {
   "cell_type": "code",
   "execution_count": 10,
   "metadata": {},
   "outputs": [],
   "source": [
    "def state_tomo_settings(qubits: List[int]) -> Generator[ExperimentSetting, None, None]:\n",
    "    \"\"\"\n",
    "    Adapted from forest.benchmarking.tomography._state_tomo_settings,\n",
    "    to use pyquil.experiment.ExperimentSetting objects instead.\n",
    "    \"\"\"\n",
    "    list_of_terms = all_traceless_pauli_terms(qubits)\n",
    "    for obs in all_traceless_pauli_terms(qubits):\n",
    "        yield ExperimentSetting(\n",
    "            in_state=zeros_state(qubits),\n",
    "            out_operator=obs,\n",
    "        )"
   ]
  },
  {
   "cell_type": "code",
   "execution_count": 11,
   "metadata": {},
   "outputs": [
    {
     "data": {
      "text/plain": [
       "[ExperimentSetting[Z0_0 * Z0_1→(1+0j)*X1],\n",
       " ExperimentSetting[Z0_0 * Z0_1→(1+0j)*Y1],\n",
       " ExperimentSetting[Z0_0 * Z0_1→(1+0j)*Z1],\n",
       " ExperimentSetting[Z0_0 * Z0_1→(1+0j)*X0],\n",
       " ExperimentSetting[Z0_0 * Z0_1→(1+0j)*X0X1],\n",
       " ExperimentSetting[Z0_0 * Z0_1→(1+0j)*X0Y1],\n",
       " ExperimentSetting[Z0_0 * Z0_1→(1+0j)*X0Z1],\n",
       " ExperimentSetting[Z0_0 * Z0_1→(1+0j)*Y0],\n",
       " ExperimentSetting[Z0_0 * Z0_1→(1+0j)*Y0X1],\n",
       " ExperimentSetting[Z0_0 * Z0_1→(1+0j)*Y0Y1],\n",
       " ExperimentSetting[Z0_0 * Z0_1→(1+0j)*Y0Z1],\n",
       " ExperimentSetting[Z0_0 * Z0_1→(1+0j)*Z0],\n",
       " ExperimentSetting[Z0_0 * Z0_1→(1+0j)*Z0X1],\n",
       " ExperimentSetting[Z0_0 * Z0_1→(1+0j)*Z0Y1],\n",
       " ExperimentSetting[Z0_0 * Z0_1→(1+0j)*Z0Z1]]"
      ]
     },
     "execution_count": 11,
     "metadata": {},
     "output_type": "execute_result"
    }
   ],
   "source": [
    "state_tomography_settings = list(state_tomo_settings(qubits))\n",
    "state_tomography_settings"
   ]
  },
  {
   "cell_type": "code",
   "execution_count": 12,
   "metadata": {},
   "outputs": [
    {
     "data": {
      "text/plain": [
       "shots: 500\n",
       "active reset: enabled\n",
       "symmetrization: -1 (exhaustive)\n",
       "calibration: 1 (plus_eigenstate)\n",
       "program:\n",
       "   H 0\n",
       "   CNOT 0 1\n",
       "settings:\n",
       "   0: Z0_0 * Z0_1→(1+0j)*X1\n",
       "   1: Z0_0 * Z0_1→(1+0j)*Y1\n",
       "   2: Z0_0 * Z0_1→(1+0j)*Z1\n",
       "   3: Z0_0 * Z0_1→(1+0j)*X0\n",
       "   4: Z0_0 * Z0_1→(1+0j)*X0X1\n",
       "   5: Z0_0 * Z0_1→(1+0j)*X0Y1\n",
       "   6: Z0_0 * Z0_1→(1+0j)*X0Z1\n",
       "   7: Z0_0 * Z0_1→(1+0j)*Y0\n",
       "   8: Z0_0 * Z0_1→(1+0j)*Y0X1\n",
       "   9: Z0_0 * Z0_1→(1+0j)*Y0Y1\n",
       "   10: Z0_0 * Z0_1→(1+0j)*Y0Z1\n",
       "   11: Z0_0 * Z0_1→(1+0j)*Z0\n",
       "   12: Z0_0 * Z0_1→(1+0j)*Z0X1\n",
       "   13: Z0_0 * Z0_1→(1+0j)*Z0Y1\n",
       "   14: Z0_0 * Z0_1→(1+0j)*Z0Z1"
      ]
     },
     "execution_count": 12,
     "metadata": {},
     "output_type": "execute_result"
    }
   ],
   "source": [
    "bell_state_tomography = Experiment(settings=state_tomography_settings, program=p)\n",
    "bell_state_tomography"
   ]
  },
  {
   "cell_type": "markdown",
   "metadata": {},
   "source": [
    "### Collect data using readout symmetrization"
   ]
  },
  {
   "cell_type": "code",
   "execution_count": 13,
   "metadata": {},
   "outputs": [
    {
     "name": "stdout",
     "output_type": "stream",
     "text": [
      "CPU times: user 2.07 s, sys: 106 ms, total: 2.17 s\n",
      "Wall time: 3.79 s\n"
     ]
    },
    {
     "data": {
      "text/plain": [
       "[ExperimentResult[Z0_0 * Z0_1→(1+0j)*X1: -0.026 +- 0.03162790420379328],\n",
       " ExperimentResult[Z0_0 * Z0_1→(1+0j)*Y1: -0.02 +- 0.031632271505546365],\n",
       " ExperimentResult[Z0_0 * Z0_1→(1+0j)*Z1: 0.026 +- 0.03162790420379328],\n",
       " ExperimentResult[Z0_0 * Z0_1→(1+0j)*X0: 0.006 +- 0.031638030358493635],\n",
       " ExperimentResult[Z0_0 * Z0_1→(1+0j)*X0X1: 0.744 +- 0.014944687077216367],\n",
       " ExperimentResult[Z0_0 * Z0_1→(1+0j)*X0Y1: -0.007 +- 0.022365724061751344],\n",
       " ExperimentResult[Z0_0 * Z0_1→(1+0j)*X0Z1: 0.006 +- 0.022365869445609057],\n",
       " ExperimentResult[Z0_0 * Z0_1→(1+0j)*Y0: 0.028 +- 0.03162619509546186],\n",
       " ExperimentResult[Z0_0 * Z0_1→(1+0j)*Y0X1: 0.001 +- 0.022366260858990406],\n",
       " ExperimentResult[Z0_0 * Z0_1→(1+0j)*Y0Y1: -0.756 +- 0.014640326826433635],\n",
       " ExperimentResult[Z0_0 * Z0_1→(1+0j)*Y0Z1: 0.007 +- 0.022365724061751344],\n",
       " ExperimentResult[Z0_0 * Z0_1→(1+0j)*Z0: 0.024 +- 0.03162948662916338],\n",
       " ExperimentResult[Z0_0 * Z0_1→(1+0j)*Z0X1: -0.019 +- 0.02236223456561047],\n",
       " ExperimentResult[Z0_0 * Z0_1→(1+0j)*Z0Y1: -0.02 +- 0.022361798340305866],\n",
       " ExperimentResult[Z0_0 * Z0_1→(1+0j)*Z0Z1: 0.743 +- 0.014969553893549594]]"
      ]
     },
     "execution_count": 13,
     "metadata": {},
     "output_type": "execute_result"
    }
   ],
   "source": [
    "%%time\n",
    "results = qc.experiment(bell_state_tomography)\n",
    "results"
   ]
  },
  {
   "cell_type": "markdown",
   "metadata": {},
   "source": [
    "### Perform readout calibration on all observables required for 2Q state tomography"
   ]
  },
  {
   "cell_type": "code",
   "execution_count": 14,
   "metadata": {},
   "outputs": [
    {
     "name": "stdout",
     "output_type": "stream",
     "text": [
      "CPU times: user 1.8 s, sys: 12.2 ms, total: 1.81 s\n",
      "Wall time: 3.72 s\n"
     ]
    },
    {
     "data": {
      "text/plain": [
       "[ExperimentResult[X0_1→(1+0j)*X1: 0.894 +- 0.01417621123449298],\n",
       " ExperimentResult[Y0_1→(1+0j)*Y1: 0.874 +- 0.015374015752572924],\n",
       " ExperimentResult[Z0_1→(1+0j)*Z1: 0.874 +- 0.015374015752572924],\n",
       " ExperimentResult[X0_0→(1+0j)*X0: 0.888 +- 0.014548802963394196],\n",
       " ExperimentResult[X0_0 * X0_1→(1+0j)*X0X1: 0.79 +- 0.013712914424403203],\n",
       " ExperimentResult[X0_0 * Y0_1→(1+0j)*X0Y1: 0.775 +- 0.014134616857094091],\n",
       " ExperimentResult[X0_0 * Z0_1→(1+0j)*X0Z1: 0.784 +- 0.013884105451634113],\n",
       " ExperimentResult[Y0_0→(1+0j)*Y0: 0.884 +- 0.014790630911585981],\n",
       " ExperimentResult[Y0_0 * X0_1→(1+0j)*Y0X1: 0.814 +- 0.012991781756040944],\n",
       " ExperimentResult[Y0_0 * Y0_1→(1+0j)*Y0Y1: 0.749 +- 0.014819220784249292],\n",
       " ExperimentResult[Y0_0 * Z0_1→(1+0j)*Y0Z1: 0.766 +- 0.014377947095511951],\n",
       " ExperimentResult[Z0_0→(1+0j)*Z0: 0.874 +- 0.015374015752572924],\n",
       " ExperimentResult[Z0_0 * X0_1→(1+0j)*Z0X1: 0.75 +- 0.014793898394772671],\n",
       " ExperimentResult[Z0_0 * Y0_1→(1+0j)*Z0Y1: 0.788 +- 0.013770359886571694],\n",
       " ExperimentResult[Z0_0 * Z0_1→(1+0j)*Z0Z1: 0.791 +- 0.013684046425063077]]"
      ]
     },
     "execution_count": 14,
     "metadata": {},
     "output_type": "execute_result"
    }
   ],
   "source": [
    "%%time\n",
    "calibrations = qc.calibrate(bell_state_tomography)\n",
    "calibrations"
   ]
  },
  {
   "cell_type": "markdown",
   "metadata": {},
   "source": [
    "### Correct for noisy readout using calibration results"
   ]
  },
  {
   "cell_type": "code",
   "execution_count": 15,
   "metadata": {},
   "outputs": [
    {
     "data": {
      "text/plain": [
       "[ExperimentResult[Z0_0 * Z0_1→(1+0j)*X1: -0.029082774049217 +- 0.03538097453884937],\n",
       " ExperimentResult[Z0_0 * Z0_1→(1+0j)*Y1: -0.02288329519450801 +- 0.03619476866916767],\n",
       " ExperimentResult[Z0_0 * Z0_1→(1+0j)*Z1: 0.02974828375286041 +- 0.036191316654274705],\n",
       " ExperimentResult[Z0_0 * Z0_1→(1+0j)*X0: 0.006756756756756757 +- 0.03562858454575278],\n",
       " ExperimentResult[Z0_0 * Z0_1→(1+0j)*X0X1: 0.9417721518987341 +- 0.02500204946812061],\n",
       " ExperimentResult[Z0_0 * Z0_1→(1+0j)*X0Y1: -0.009032258064516128 +- 0.028859468945979374],\n",
       " ExperimentResult[Z0_0 * Z0_1→(1+0j)*X0Z1: 0.007653061224489796 +- 0.028528216638769834],\n",
       " ExperimentResult[Z0_0 * Z0_1→(1+0j)*Y0: 0.03167420814479638 +- 0.03578016372566333],\n",
       " ExperimentResult[Z0_0 * Z0_1→(1+0j)*Y0X1: 0.0012285012285012287 +- 0.027476985938103365],\n",
       " ExperimentResult[Z0_0 * Z0_1→(1+0j)*Y0Y1: -1.0093457943925235 +- 0.02794416771485223],\n",
       " ExperimentResult[Z0_0 * Z0_1→(1+0j)*Y0Z1: 0.009138381201044387 +- 0.02919857702091907],\n",
       " ExperimentResult[Z0_0 * Z0_1→(1+0j)*Z0: 0.027459954233409613 +- 0.036192567422344016],\n",
       " ExperimentResult[Z0_0 * Z0_1→(1+0j)*Z0X1: -0.025333333333333333 +- 0.02982049985081722],\n",
       " ExperimentResult[Z0_0 * Z0_1→(1+0j)*Z0Y1: -0.025380710659898477 +- 0.028381382516858646],\n",
       " ExperimentResult[Z0_0 * Z0_1→(1+0j)*Z0Z1: 0.9393173198482933 +- 0.0249441116622634]]"
      ]
     },
     "execution_count": 15,
     "metadata": {},
     "output_type": "execute_result"
    }
   ],
   "source": [
    "results_corrected = []\n",
    "for r, c in zip(results, calibrations):\n",
    "    results_corrected.append(correct_experiment_result(r, c))\n",
    "results_corrected"
   ]
  },
  {
   "cell_type": "markdown",
   "metadata": {},
   "source": [
    "### Estimate density matrix from noisy QVM data using the linear inversion method"
   ]
  },
  {
   "cell_type": "code",
   "execution_count": 16,
   "metadata": {},
   "outputs": [
    {
     "data": {
      "text/plain": [
       "array([[ 0.499+0.j   ,  0.004-0.01j , -0.014+0.012j,  0.488+0.002j],\n",
       "       [ 0.004+0.01j ,  0.016-0.j   , -0.017+0.003j, -0.001-0.001j],\n",
       "       [-0.014-0.012j, -0.017-0.003j,  0.015-0.j   , -0.   -0.006j],\n",
       "       [ 0.488-0.002j, -0.001+0.001j, -0.   +0.006j,  0.471+0.j   ]])"
      ]
     },
     "execution_count": 16,
     "metadata": {},
     "output_type": "execute_result"
    }
   ],
   "source": [
    "def linear_inv_state_estimate(results: List[ExperimentResult], qubits: List[int]) -> np.ndarray:\n",
    "    \"\"\"\n",
    "    Adapted from forest.benchmarking.tomography.linear_inv_state_estimate,\n",
    "    to use pyquil.experiment.ExperimentResult objects instead.\n",
    "    \"\"\"\n",
    "    measurement_matrix = np.vstack([\n",
    "        vec(lifted_pauli(result.setting.out_operator, qubits=qubits)).T.conj() for result in results])\n",
    "    expectations = np.array([result.expectation for result in results])\n",
    "    rho = pinv(measurement_matrix) @ expectations\n",
    "    dim = 2**len(qubits)\n",
    "    return unvec(rho) + np.eye(dim) / dim\n",
    "\n",
    "rho_simulated = linear_inv_state_estimate(results_corrected, [0,1])\n",
    "np.round(rho_simulated, 3)"
   ]
  },
  {
   "cell_type": "markdown",
   "metadata": {},
   "source": [
    "### Plot the simulated data"
   ]
  },
  {
   "cell_type": "code",
   "execution_count": 17,
   "metadata": {},
   "outputs": [
    {
     "data": {
      "image/png": "[encoded data removed]",
      "text/plain": [
       "<Figure size 432x864 with 2 Axes>"
      ]
     },
     "metadata": {},
     "output_type": "display_data"
    }
   ],
   "source": [
    "fig_qvm, (ax0_qvm, ax1_qvm) = plt.subplots(2, 1, figsize=(6, 12))\n",
    "fig_qvm.subplots_adjust(hspace=0.1)\n",
    "hinton(rho_true, ax=ax0_qvm)\n",
    "hinton(rho_simulated, ax=ax1_qvm)"
   ]
  },
  {
   "cell_type": "code",
   "execution_count": 18,
   "metadata": {},
   "outputs": [
    {
     "name": "stdout",
     "output_type": "stream",
     "text": [
      "Simulated Bell state fidelity = 97.26%\n"
     ]
    }
   ],
   "source": [
    "print(f\"Simulated Bell state fidelity = {np.round(fidelity(rho_true, rho_simulated), 4)*100:.2f}%\")"
   ]
  }
 ],
 "metadata": {
  "kernelspec": {
   "display_name": "Python 3",
   "language": "python",
   "name": "python3"
  },
  "language_info": {
   "codemirror_mode": {
    "name": "ipython",
    "version": 3
   },
   "file_extension": ".py",
   "mimetype": "text/x-python",
   "name": "python",
   "nbconvert_exporter": "python",
   "pygments_lexer": "ipython3",
   "version": "3.6.3"
  }
 },
 "nbformat": 4,
 "nbformat_minor": 4
}
