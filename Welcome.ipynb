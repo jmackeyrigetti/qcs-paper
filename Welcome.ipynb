{
 "cells": [
  {
   "cell_type": "markdown",
   "metadata": {},
   "source": [
    "# Welcome\n",
    "\n",
    "This is a Binder repository for the code and datasets that underpin the results in the paper [_A quantum-classical cloud platform optimized for variational hybrid algorithms_](https://scirate.com/arxiv/2001.04449) by Peter J. Karalekas, Nikolas A. Tezak, Eric C. Peterson, Colm A. Ryan, Marcus P. da Silva, and Robert S. Smith. The `notebooks` directory contains Jupyter notebooks that reproduce all of the analysis and plotting for the paper, using the data in the `notebooks/datasets` directory. All the resulting plots and figures are in the `figures` directory.\n",
    "\n",
    "## Analysis Notebooks\n",
    "\n",
    "1. [QPULatencyBudgets.ipynb](notebooks/QPULatencyBudgets.ipynb)\n",
    "2. [ActiveResetCalibration.ipynb](notebooks/ActiveResetCalibration.ipynb)\n",
    "3. [RandomPhaseGadgets.ipynb](notebooks/RandomPhaseGadgets.ipynb)\n",
    "4. [QPULatencyResults.ipynb](notebooks/QPULatencyResults.ipynb)\n",
    "5. [ReadoutErrorMitigation.ipynb](notebooks/ReadoutErrorMitigation.ipynb)\n",
    "6. [BellStateTomography.ipynb](notebooks/BellStateTomography.ipynb)\n",
    "7. [VariationalQuantumEigensolver.ipynb](notebooks/VariationalQuantumEigensolver.ipynb)\n",
    "\n",
    "## Paper Datasets\n",
    "\n",
    "1. [compiler-timing-info.csv](notebooks/datasets/compiler-timing-info.csv)\n",
    "2. [executor-timing-info.csv](notebooks/datasets/executor-timing-info.csv)\n",
    "3. [qubit-characterization.csv](notebooks/datasets/qubit-characterization.csv)\n",
    "4. [edge-characterization.csv](notebooks/datasets/edge-characterization.csv)\n",
    "5. [active-reset-calibration.csv](notebooks/datasets/active-reset-calibration.csv)\n",
    "6. [forest-web-api.csv](notebooks/datasets/forest-web-api.csv)\n",
    "7. [qcs-standard-compilation.csv](notebooks/datasets/qcs-standard-compilation.csv)\n",
    "8. [qcs-parametric-compilation.csv](notebooks/datasets/qcs-parametric-compilation.csv)\n",
    "9. [qcs-active-qubit-reset.csv](notebooks/datasets/qcs-active-qubit-reset.csv)\n",
    "10. [readout-error-mitigation.csv](notebooks/datasets/readout-error-mitigation.csv)\n",
    "11. [bell-state-tomography.csv](notebooks/datasets/bell-state-tomography.csv)\n",
    "12. [h2-hamiltonian-coefficients.csv](notebooks/datasets/h2-hamiltonian-coefficients.csv)\n",
    "13. [h2-vqe-qpu.csv](notebooks/datasets/h2-vqe-qpu.csv)\n",
    "14. [h2-vqe-qvm.csv](notebooks/datasets/h2-vqe-qvm.csv)\n",
    "\n",
    "## Paper Figures\n",
    "\n",
    "1. [quantum-cloud-architecture.pdf](figures/quantum-cloud-architecture.pdf)\n",
    "2. [parametric-compilation.pdf](figures/parametric-compilation.pdf)\n",
    "3. [active-qubit-reset.pdf](figures/active-qubit-reset.pdf)\n",
    "4. [phase-gadget-benchmark.pdf](figures/phase-gadget-benchmark.pdf)\n",
    "5. [benchmarking-qpu-latency.pdf](figures/benchmarking-qpu-latency.pdf)\n",
    "6. [readout-error-mitigation.pdf](figures/readout-error-mitigation.pdf)\n",
    "7. [bell-state-tomography.pdf](figures/bell-state-tomography.pdf)\n",
    "8. [variational-quantum-eigensolver.pdf](figures/variational-quantum-eigensolver.pdf)"
   ]
  }
 ],
 "metadata": {
  "kernelspec": {
   "display_name": "Python 3",
   "language": "python",
   "name": "python3"
  },
  "language_info": {
   "codemirror_mode": {
    "name": "ipython",
    "version": 3
   },
   "file_extension": ".py",
   "mimetype": "text/x-python",
   "name": "python",
   "nbconvert_exporter": "python",
   "pygments_lexer": "ipython3",
   "version": "3.6.3"
  }
 },
 "nbformat": 4,
 "nbformat_minor": 4
}
